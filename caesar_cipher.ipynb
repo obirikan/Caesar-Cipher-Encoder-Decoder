{
 "cells": [
  {
   "cell_type": "code",
   "execution_count": 14,
   "metadata": {},
   "outputs": [
    {
     "data": {
      "text/plain": [
       "[6, 3, 10, 10, 13, -2, 9, 13, 4, 7, -2, 7, 17, -2, -1, -2, 0, 13, 23]"
      ]
     },
     "execution_count": 14,
     "metadata": {},
     "output_type": "execute_result"
    }
   ],
   "source": [
    "alphabets='abcdefghijklmnopqrstuvwxyz'\n",
    "\n",
    "# index=alphabets.find('e')\n",
    "# index\n",
    "\n",
    "text='hello kofi is a boy'\n",
    "\n",
    "indexes=[alphabets.find(x)-1 for x in text]\n",
    "indexes"
   ]
  },
  {
   "cell_type": "code",
   "execution_count": 15,
   "metadata": {},
   "outputs": [
    {
     "name": "stdout",
     "output_type": "stream",
     "text": [
      "a 0\n",
      "b 1\n",
      "c 2\n",
      "d 3\n",
      "e 4\n",
      "f 5\n",
      "g 6\n",
      "h 7\n",
      "i 8\n",
      "j 9\n",
      "k 10\n",
      "l 11\n",
      "m 12\n",
      "n 13\n",
      "o 14\n",
      "p 15\n",
      "q 16\n",
      "r 17\n",
      "s 18\n",
      "t 19\n",
      "u 20\n",
      "v 21\n",
      "w 22\n",
      "x 23\n",
      "y 24\n",
      "z 25\n"
     ]
    }
   ],
   "source": [
    "index=0\n",
    "for every_letter in alphabets:\n",
    "    print(every_letter,index)\n",
    "    index +=1\n",
    "    "
   ]
  },
  {
   "cell_type": "markdown",
   "metadata": {},
   "source": [
    "# Encode Syntax"
   ]
  },
  {
   "cell_type": "code",
   "execution_count": 16,
   "metadata": {},
   "outputs": [
    {
     "data": {
      "text/plain": [
       "[4, 1, 8, 8, 11, -4, 7, 11, 2, 5, -4, 5, 15, -4, -3, -4, -2, 11, 21]"
      ]
     },
     "execution_count": 16,
     "metadata": {},
     "output_type": "execute_result"
    }
   ],
   "source": [
    "indexes_2=[alphabets.find(x)-3 for x in text]\n",
    "\n",
    "indexes_2"
   ]
  },
  {
   "cell_type": "code",
   "execution_count": 17,
   "metadata": {},
   "outputs": [
    {
     "data": {
      "text/plain": [
       "'ebiilwhlcfwfpwxwylv'"
      ]
     },
     "execution_count": 17,
     "metadata": {},
     "output_type": "execute_result"
    }
   ],
   "source": [
    "encodeded_text=[alphabets[x] for x in indexes_2 ]\n",
    "\n",
    "delimiter=''\n",
    "delimiter.join(encodeded_text)"
   ]
  },
  {
   "cell_type": "code",
   "execution_count": 18,
   "metadata": {},
   "outputs": [
    {
     "ename": "IndexError",
     "evalue": "string index out of range",
     "output_type": "error",
     "traceback": [
      "\u001b[31m---------------------------------------------------------------------------\u001b[39m",
      "\u001b[31mIndexError\u001b[39m                                Traceback (most recent call last)",
      "\u001b[36mCell\u001b[39m\u001b[36m \u001b[39m\u001b[32mIn[18]\u001b[39m\u001b[32m, line 3\u001b[39m\n\u001b[32m      1\u001b[39m decode_index=[alphabets.find(x)+\u001b[32m3\u001b[39m \u001b[38;5;28;01mfor\u001b[39;00m x \u001b[38;5;129;01min\u001b[39;00m encodeded_text]\n\u001b[32m----> \u001b[39m\u001b[32m3\u001b[39m decode_text=[\u001b[43malphabets\u001b[49m\u001b[43m[\u001b[49m\u001b[43mx\u001b[49m\u001b[43m]\u001b[49m \u001b[38;5;28;01mfor\u001b[39;00m x \u001b[38;5;129;01min\u001b[39;00m decode_index ]\n\u001b[32m      5\u001b[39m delimiter=\u001b[33m'\u001b[39m\u001b[33m'\u001b[39m\n\u001b[32m      7\u001b[39m delimiter.join(decode_text)\n",
      "\u001b[31mIndexError\u001b[39m: string index out of range"
     ]
    }
   ],
   "source": [
    "decode_index=[alphabets.find(x)+3 for x in encodeded_text]\n",
    "\n",
    "decode_text=[alphabets[x] for x in decode_index ]\n",
    "\n",
    "delimiter=''\n",
    "\n",
    "delimiter.join(decode_text)"
   ]
  }
 ],
 "metadata": {
  "kernelspec": {
   "display_name": "deeplearning",
   "language": "python",
   "name": "python3"
  },
  "language_info": {
   "codemirror_mode": {
    "name": "ipython",
    "version": 3
   },
   "file_extension": ".py",
   "mimetype": "text/x-python",
   "name": "python",
   "nbconvert_exporter": "python",
   "pygments_lexer": "ipython3",
   "version": "3.12.9"
  }
 },
 "nbformat": 4,
 "nbformat_minor": 2
}
