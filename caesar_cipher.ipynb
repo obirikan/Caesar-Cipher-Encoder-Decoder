{
 "cells": [
  {
   "cell_type": "code",
   "execution_count": 1,
   "metadata": {},
   "outputs": [
    {
     "data": {
      "text/plain": [
       "[6, 3, 10, 10, 13]"
      ]
     },
     "execution_count": 1,
     "metadata": {},
     "output_type": "execute_result"
    }
   ],
   "source": [
    "alphabets='abcdefghijklmnopqrstuvwxyz'\n",
    "\n",
    "# index=alphabets.find('e')\n",
    "# index\n",
    "\n",
    "text='hello'\n",
    "\n",
    "indexes=[alphabets.find(x)-1 for x in text]\n",
    "indexes"
   ]
  },
  {
   "cell_type": "code",
   "execution_count": 2,
   "metadata": {},
   "outputs": [
    {
     "name": "stdout",
     "output_type": "stream",
     "text": [
      "a 0\n",
      "b 1\n",
      "c 2\n",
      "d 3\n",
      "e 4\n",
      "f 5\n",
      "g 6\n",
      "h 7\n",
      "i 8\n",
      "j 9\n",
      "k 10\n",
      "l 11\n",
      "m 12\n",
      "n 13\n",
      "o 14\n",
      "p 15\n",
      "q 16\n",
      "r 17\n",
      "s 18\n",
      "t 19\n",
      "u 20\n",
      "v 21\n",
      "w 22\n",
      "x 23\n",
      "y 24\n",
      "z 25\n"
     ]
    }
   ],
   "source": [
    "index=0\n",
    "for every_letter in alphabets:\n",
    "    print(every_letter,index)\n",
    "    index +=1\n",
    "    "
   ]
  },
  {
   "cell_type": "markdown",
   "metadata": {},
   "source": [
    "# Encode Syntax"
   ]
  },
  {
   "cell_type": "code",
   "execution_count": 3,
   "metadata": {},
   "outputs": [
    {
     "data": {
      "text/plain": [
       "[4, 1, 8, 8, 11]"
      ]
     },
     "execution_count": 3,
     "metadata": {},
     "output_type": "execute_result"
    }
   ],
   "source": [
    "indexes_2=[alphabets.find(x)-3 for x in text]\n",
    "\n",
    "indexes_2"
   ]
  },
  {
   "cell_type": "code",
   "execution_count": 4,
   "metadata": {},
   "outputs": [
    {
     "data": {
      "text/plain": [
       "'ebiil'"
      ]
     },
     "execution_count": 4,
     "metadata": {},
     "output_type": "execute_result"
    }
   ],
   "source": [
    "encodeded_text=[alphabets[x] for x in indexes_2 ]\n",
    "\n",
    "delimiter=''\n",
    "delimiter.join(encodeded_text)"
   ]
  },
  {
   "cell_type": "code",
   "execution_count": 5,
   "metadata": {},
   "outputs": [
    {
     "data": {
      "text/plain": [
       "'hello'"
      ]
     },
     "execution_count": 5,
     "metadata": {},
     "output_type": "execute_result"
    }
   ],
   "source": [
    "decode_index=[alphabets.find(x)+3 for x in encodeded_text]\n",
    "\n",
    "decode_text=[alphabets[x] for x in decode_index ]\n",
    "\n",
    "delimiter=''\n",
    "\n",
    "delimiter.join(decode_text)"
   ]
  }
 ],
 "metadata": {
  "kernelspec": {
   "display_name": "deeplearning",
   "language": "python",
   "name": "python3"
  },
  "language_info": {
   "codemirror_mode": {
    "name": "ipython",
    "version": 3
   },
   "file_extension": ".py",
   "mimetype": "text/x-python",
   "name": "python",
   "nbconvert_exporter": "python",
   "pygments_lexer": "ipython3",
   "version": "3.12.9"
  }
 },
 "nbformat": 4,
 "nbformat_minor": 2
}
