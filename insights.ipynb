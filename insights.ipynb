{
 "cells": [
  {
   "cell_type": "markdown",
   "metadata": {},
   "source": [
    "**Every Letter In The Alphabet And Its corresponding index*"
   ]
  },
  {
   "cell_type": "code",
   "execution_count": 4,
   "metadata": {},
   "outputs": [
    {
     "name": "stdout",
     "output_type": "stream",
     "text": [
      "a ----> 0\n",
      "b ----> 1\n",
      "c ----> 2\n",
      "d ----> 3\n",
      "e ----> 4\n",
      "f ----> 5\n",
      "g ----> 6\n",
      "h ----> 7\n",
      "i ----> 8\n",
      "j ----> 9\n",
      "k ----> 10\n",
      "l ----> 11\n",
      "m ----> 12\n",
      "n ----> 13\n",
      "o ----> 14\n",
      "p ----> 15\n",
      "q ----> 16\n",
      "r ----> 17\n",
      "s ----> 18\n",
      "t ----> 19\n",
      "u ----> 20\n",
      "v ----> 21\n",
      "w ----> 22\n",
      "x ----> 23\n",
      "y ----> 24\n",
      "z ----> 25\n"
     ]
    }
   ],
   "source": [
    "from variables.main import alphabets\n",
    "\n",
    "a_index=0\n",
    "for every_letter in alphabets:\n",
    "    print(every_letter,'---->',a_index)\n",
    "    a_index +=1"
   ]
  },
  {
   "cell_type": "code",
   "execution_count": 2,
   "metadata": {},
   "outputs": [
    {
     "name": "stdout",
     "output_type": "stream",
     "text": [
      "m 0\n",
      "y 1\n",
      "  2\n",
      "n 3\n",
      "a 4\n",
      "m 5\n",
      "e 6\n",
      "  7\n",
      "i 8\n",
      "s 9\n",
      "  10\n",
      "k 11\n",
      "e 12\n",
      "l 13\n",
      "v 14\n",
      "i 15\n",
      "n 16\n",
      "  17\n",
      "o 18\n",
      "b 19\n",
      "i 20\n",
      "r 21\n",
      "i 22\n"
     ]
    },
    {
     "data": {
      "text/plain": [
       "['m',\n",
       " 'y',\n",
       " ' ',\n",
       " 'n',\n",
       " 'a',\n",
       " 'm',\n",
       " 'e',\n",
       " ' ',\n",
       " 'i',\n",
       " 's',\n",
       " ' ',\n",
       " 'k',\n",
       " 'e',\n",
       " 'l',\n",
       " 'v',\n",
       " 'i',\n",
       " 'n',\n",
       " ' ',\n",
       " 'o',\n",
       " 'b',\n",
       " 'i',\n",
       " 'r',\n",
       " 'i']"
      ]
     },
     "execution_count": 2,
     "metadata": {},
     "output_type": "execute_result"
    }
   ],
   "source": [
    "##eg\n",
    "input_sentence='my name is kelvin obiri'\n",
    "each_letter=[]\n",
    "index=0\n",
    "for word in input_sentence:\n",
    "    print(word,index)\n",
    "    index +=1\n",
    "    each_letter.append(word)\n",
    "    \n",
    "each_letter"
   ]
  }
 ],
 "metadata": {
  "kernelspec": {
   "display_name": "deeplearning",
   "language": "python",
   "name": "python3"
  },
  "language_info": {
   "codemirror_mode": {
    "name": "ipython",
    "version": 3
   },
   "file_extension": ".py",
   "mimetype": "text/x-python",
   "name": "python",
   "nbconvert_exporter": "python",
   "pygments_lexer": "ipython3",
   "version": "3.12.9"
  }
 },
 "nbformat": 4,
 "nbformat_minor": 2
}
